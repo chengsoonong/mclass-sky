{
 "cells": [
  {
   "cell_type": "code",
   "execution_count": 1,
   "metadata": {
    "collapsed": true
   },
   "outputs": [],
   "source": [
    "# These might be different for you\n",
    "DFLENS_PATH = '/Users/jakubnabaglo/Desktop/old/lib_phz_2dfgals.fits'"
   ]
  },
  {
   "cell_type": "code",
   "execution_count": 2,
   "metadata": {
    "collapsed": true
   },
   "outputs": [],
   "source": [
    "import functools\n",
    "import itertools\n",
    "import time\n",
    "\n",
    "import astropy.io.fits\n",
    "import astropy.table\n",
    "import matplotlib.pyplot as plt\n",
    "import numpy as np\n",
    "import scipy.linalg\n",
    "import sklearn.linear_model\n",
    "from hyperopt import fmin, tpe, hp, STATUS_OK, STATUS_FAIL\n",
    "\n",
    "%matplotlib inline"
   ]
  },
  {
   "cell_type": "code",
   "execution_count": 7,
   "metadata": {
    "collapsed": true,
    "scrolled": false
   },
   "outputs": [],
   "source": [
    "# Load the data\n",
    "data = astropy.table.Table.read(DFLENS_PATH).to_pandas()\n",
    "zs_unshuffled = data['z'].as_matrix().astype(np.float32)\n",
    "bands_unshuffled = data[['umag', 'gmag', 'rmag', 'imag', 'zmag', 'w1mag', 'w2mag']].as_matrix().astype(np.float32)\n",
    "bands_vars_unshuffled = data[['s_umag', 's_gmag', 's_rmag',\n",
    "                   's_imag', 's_zmag', 's_w1mag', 's_w2mag']].as_matrix().astype(np.float32)\n",
    "bands_vars_unshuffled *= bands_vars_unshuffled  # Make standard deviations into variances\n",
    "\n",
    "no_w1_indices = bands_vars_unshuffled[:,5] == 998001\n",
    "no_w2_indices = (bands_vars_unshuffled[:,6] == 998001) | np.isnan(bands_vars_unshuffled[:,6])\n",
    "\n",
    "def get_colours(bands, bands_vars):\n",
    "    u, g, r, i, z, w1, w2 = bands.T\n",
    "    r_w1 = r - w1\n",
    "    w1_w2 = w1 - w2\n",
    "    u_g = u - g\n",
    "    g_r = g - r\n",
    "    r_i = r - i\n",
    "    i_z = i - z\n",
    "    \n",
    "    u_var, g_var, r_var, i_var, z_var, w1_var, w2_var = bands_vars.T\n",
    "    r_w1_var = r_var + w1_var\n",
    "    w1_w2_var = w1_var + w2_var\n",
    "    u_g_var = u_var + g_var\n",
    "    g_r_var = g_var + r_var\n",
    "    r_i_var = r_var + i_var\n",
    "    i_z_var = i_var + z_var\n",
    "    \n",
    "    bands[:,0] = r\n",
    "    bands[:,1] = r_w1\n",
    "    bands[:,2] = w1_w2\n",
    "    bands[:,3] = u_g\n",
    "    bands[:,4] = g_r\n",
    "    bands[:,5] = r_i\n",
    "    bands[:,6] = i_z\n",
    "    \n",
    "    bands_vars[:,0] = r_var\n",
    "    bands_vars[:,1] = r_w1_var\n",
    "    bands_vars[:,2] = w1_w2_var\n",
    "    bands_vars[:,3] = u_g_var\n",
    "    bands_vars[:,4] = g_r_var\n",
    "    bands_vars[:,5] = r_i_var\n",
    "    bands_vars[:,6] = i_z_var\n",
    "    \n",
    "get_colours(bands_unshuffled, bands_vars_unshuffled)\n",
    "\n",
    "def fill_blanks(blanks_indices, means, vars_):\n",
    "    mean = np.mean(means[~blanks_indices], axis=0)\n",
    "    means[blanks_indices] = mean\n",
    "    \n",
    "    deviations = means[~blanks_indices] - mean\n",
    "    deviations *= deviations\n",
    "    \n",
    "    N = deviations.shape[0]\n",
    "    mean_sq_deviation = deviations.sum(axis=0) / (N - 1)\n",
    "    mean_variance = vars_[~blanks_indices].sum(axis=0) / (N - 1)\n",
    "    \n",
    "    vars_[blanks_indices] = mean_sq_deviation + mean_variance\n",
    "    \n",
    "# Fill in blanks where we don't have WISE data. We set the mean to the mean of the population and the variance to that\n",
    "# of the population. This is a good representation of what we know about that data.\n",
    "\n",
    "fill_blanks(no_w1_indices, bands_unshuffled[:, 1], bands_vars_unshuffled[:, 1])\n",
    "fill_blanks(no_w1_indices | no_w2_indices, bands_unshuffled[:, 2], bands_vars_unshuffled[:, 2])\n",
    "\n",
    "all_indices = np.arange(zs_unshuffled.shape[0])\n",
    "np.random.shuffle(all_indices)\n",
    "zs = zs_unshuffled[all_indices]\n",
    "bands = bands_unshuffled[all_indices]\n",
    "bands_vars = bands_vars_unshuffled[all_indices]"
   ]
  },
  {
   "cell_type": "code",
   "execution_count": 8,
   "metadata": {
    "collapsed": true
   },
   "outputs": [],
   "source": [
    "def gaussian_kernel(s, Mu, Mu_, Sigma, Sigma_, diag_dependent=False):\n",
    "    \"\"\" Computes the Gaussian kernel, accounting for uncertainty in the data. Mu is the mean\n",
    "        of the data and Sigma is the uncertainty (as variance for each axis).\n",
    "        S is the length scale of the kernel, as variance on each axis.\n",
    "    \"\"\"\n",
    "    \n",
    "    N, f = Sigma.shape\n",
    "    N_, f_ = Sigma_.shape\n",
    "    assert f == f_\n",
    "\n",
    "    assert not diag_dependent or N == N_\n",
    "        \n",
    "    det_s = np.prod(s)\n",
    "    \n",
    "    gauss_covars = np.tile(Sigma_, (N, 1, 1))\n",
    "    gauss_covars += Sigma.reshape((N, 1, f))\n",
    "    gauss_covars += s\n",
    "    inv_gauss_covars = np.reciprocal(gauss_covars, out=gauss_covars)\n",
    "    \n",
    "    diffs = np.tile(Mu_, (N, 1, 1))\n",
    "    diffs -= Mu.reshape((N, 1, f))\n",
    "    diffs = np.square(diffs, out=diffs)\n",
    "    diffs *= inv_gauss_covars\n",
    "    \n",
    "    exponents = np.sum(diffs, axis=2)\n",
    "    exponents *= -0.5\n",
    "    exponents = np.exp(exponents, out=exponents)\n",
    "    \n",
    "    dets_gauss_covars = np.prod(inv_gauss_covars, axis=2)\n",
    "    dets_gauss_covars *= det_s\n",
    "    multipliers = np.sqrt(dets_gauss_covars, out=dets_gauss_covars)\n",
    "    \n",
    "    exponents *= multipliers\n",
    "    \n",
    "    return exponents"
   ]
  },
  {
   "cell_type": "code",
   "execution_count": 9,
   "metadata": {
    "collapsed": true
   },
   "outputs": [],
   "source": [
    "class RedshiftGPR:\n",
    "    def __init__(self, kernel):\n",
    "        self.kernel = kernel\n",
    "        self.L = None\n",
    "        self.weights = None\n",
    "        self.train_X = None\n",
    "        self.train_X_var = None\n",
    "        \n",
    "    def fit(self, X, X_var, y, fit_variance=False):\n",
    "        y = np.log1p(y)\n",
    "        \n",
    "        K = self.kernel(X, X, X_var, X_var)  # n * n\n",
    "        K[np.diag_indices_from(K)] = 0\n",
    "        \n",
    "        mean_normalise = K.sum(axis=0)\n",
    "        avgs = K @ y\n",
    "        avgs /= mean_normalise\n",
    "        \n",
    "        self.y_mean = np.mean(y)\n",
    "        self.y_std = np.std(y, ddof=1)\n",
    "        \n",
    "        sq_devs = avgs\n",
    "        sq_devs -= y\n",
    "        sq_devs = np.square(sq_devs, out=sq_devs)\n",
    "        \n",
    "        y -= self.y_mean\n",
    "        y /= self.y_std\n",
    "        sq_devs /= self.y_std * self.y_std\n",
    "        \n",
    "        avg_var = np.dot(K, sq_devs, out=sq_devs)\n",
    "        avg_var /= mean_normalise\n",
    "        self.avg_var = avg_var\n",
    "        \n",
    "        avg_var += 1\n",
    "        K[np.diag_indices_from(K)] = avg_var\n",
    "        \n",
    "        K = K.astype(np.float32)\n",
    "        y = y.astype(np.float32)\n",
    "        if fit_variance:\n",
    "            self.L = scipy.linalg.cho_factor(K, lower=True, overwrite_a=True, check_finite=False)\n",
    "            self.weights = scipy.linalg.cho_solve(self.L, y, check_finite=False)\n",
    "        else:\n",
    "            self.weights = scipy.linalg.solve(K, y, overwrite_a=True, check_finite=False, assume_a='pos')\n",
    "            \n",
    "        self.train_X = X\n",
    "        self.train_X_var = X_var\n",
    "        \n",
    "    def predict(self, X, X_var, return_var=False):\n",
    "        K_ = self.kernel(self.train_X, X, self.train_X_var, X_var)\n",
    "        \n",
    "        means = K_.T @ self.weights\n",
    "        means *= self.y_std\n",
    "        means += self.y_mean\n",
    "        means = np.expm1(means, out=means)\n",
    "        \n",
    "        if return_var:\n",
    "            var = scipy.linalg.cho_solve(self.L, K_, check_finite=False)\n",
    "            var *= K_\n",
    "            var = np.sum(var, axis=0)\n",
    "            var = np.subtract(1, var, out=var)\n",
    "#             var += self.alpha\n",
    "            var *= self.y_std * self.y_std\n",
    "            var *= (means + 1) ** 2\n",
    "            return means, var\n",
    "        else:\n",
    "            return means"
   ]
  },
  {
   "cell_type": "code",
   "execution_count": 12,
   "metadata": {},
   "outputs": [
    {
     "name": "stdout",
     "output_type": "stream",
     "text": [
      "0 1 2 3 4 5 6 7 8 9 10 11 12 13 14 15 16 17 18 19 20 21 22 23 24 25 26 27 28 29 30 31 32 33 34 35 36 37 38 39 40 41 42 43 44 45 46 47 48 49 50 51 52 53 54 55 56 57 58 59 60 61 62 63 64 65 66 67 68 69 70 71 72 73 74 75 76 77 78 79 80 81 82 83 84 85 86 87 88 89 90 91 92 93 94 95 96 97 98 99 100 101 102 103 104 105 106 107 108 109 110 111 112 113 114 115 116 117 118 119 120 121 122 123 124 125 126 127 128 129 130 131 132 133 134 135 136 137 138 139 140 141 142 143 144 145 146 147 148 149 150 151 152 153 154 155 156 157 158 159 160 161 162 163 164 165 166 167 168 169 170 171 172 173 174 175 176 177 178 179 180 181 182 183 184 185 186 187 188 189 190 191 192 193 194 195 196 197 198 199 200 201 202 203 204 205 206 207 208 209 210 211 212 213 214 215 216 217 218 219 220 221 222 223 224 225 226 227 228 229 230 231 232 233 234 235 236 237 238 239 240 241 242 243 244 245 246 247 248 249 250 251 252 253 254 255 256 257 258 259 260 261 262 263 264 265 266 267 268 269 270 271 272 273 274 275 276 277 278 279 280 281 282 283 284 285 286 287 288 289 290 291 292 293 294 295 296 297 298 299 300 301 302 303 304 305 306 307 308 309 310 311 312 313 314 315 316 317 318 319 320 321 322 323 324 325 326 327 328 329 330 331 332 333 334 335 336 337 338 339 340 341 342 343 344 345 346 347 348 349 350 351 352 353 354 355 356 357 358 359 360 361 362 363 364 365 366 367 368 369 370 371 372 373 374 375 376 377 378 379 380 381 382 383 384 385 386 387 388 389 390 391 392 393 394 395 396 397 398 399 400 401 402 403 404 405 406 407 408 409 410 411 412 413 414 415 416 417 418 419 420 421 422 423 424 425 426 427 428 429 430 431 432 433 434 435 436 437 438 439 440 441 442 443 444 445 446 447 448 449 450 451 452 453 454 455 456 457 458 459 460 461 462 463 464 465 466 467 468 469 470 471 472 473 474 475 476 477 478 479 480 481 482 483 484 485 486 487 488 489 490 491 492 493 494 495 496 497 498 499 500 501 502 503 504 505 506 507 508 509 510 511 512 513 514 515 516 517 518 519 520 521 522 523 524 525 526 527 528 529 530 531 532 533 534 535 536 537 538 539 540 541 542 543 544 545 546 547 548 549 550 551 552 553 554 555 556 557 558 559 560 561 562 563 564 565 566 567 568 569 570 571 572 573 574 575 576 577 578 579 580 581 582 583 584 585 586 587 588 589 590 591 592 593 594 595 596 597 598 599 600 601 602 603 604 605 606 607 608 609 610 611 612 613 614 615 616 617 618 619 620 621 622 623 624 625 626 627 628 629 630 631 632 633 634 635 636 637 638 639 640 641 642 643 644 645 646 647 648 649 650 651 652 653 654 655 656 657 658 659 660 661 662 663 664 665 666 667 668 669 670 671 672 673 674 675 676 677 678 679 680 681 682 683 684 685 686 687 688 689 690 691 692 693 694 695 696 697 698 699 700 701 702 703 704 705 706 707 708 709 710 711 712 713 714 715 716 717 718 719 720 721 722 723 724 725 726 727 728 729 730 731 732 733 734 735 736 737 738 739 740 741 742 743 744 745 746 747 748 749 750 751 752 753 754 755 756 757 758 759 760 761 762 763 764 765 766 767 768 769 770 771 772 773 774 775 776 777 778 779 780 781 782 783 784 785 786 787 788 789 790 791 792 793 794 795 796 797 798 799 800 801 802 803 804 805 806 807 808 809 810 811 812 813 814 815 816 817 818 819 820 821 822 823 824 825 826 827 828 829 830 831 832 833 834 835 836 837 838 839 840 841 842 843 844 845 846 847 848 849 850 851 852 853 854 855 856 857 858 859 860 861 862 863 864 865 866 867 868 869 870 871 872 873 874 875 876 877 878 879 880 881 882 883 884 885 886 887 888 889 890 891 892 893 894 895 896 897 898 899 900 901 902 903 904 905 906 907 908 909 910 911 912 913 914 915 916 917 918 919 920 921 922 923 924 925 926 927 928 929 930 931 932 933 934 935 936 937 938 939 940 941 942 943 944 945 946 947 948 949 950 951 952 953 954 955 956 957 958 959 960 961 962 963 964 965 966 967 968 969 970 971 972 973 974 975 976 977 978 979 980 981 982 983 984 985 986 987 988 989 990 991 992 993 994 995 996 997 998 999 "
     ]
    }
   ],
   "source": [
    "class RedshiftGPRWithCV:\n",
    "    def __init__(self, iters=1000):\n",
    "        self.iters = iters\n",
    "        self.gpr = None\n",
    "        \n",
    "    def fit(self, X, X_var, y, valid_X, valid_X_var, valid_y, refit=True, fit_variance=True):\n",
    "        # We need a reasonable prior for the Bayesian optimisation. There are several:\n",
    "        # 1. Perform logistic regression and use the weights\n",
    "        lr = sklearn.linear_model.LinearRegression()\n",
    "        lr.fit(X, np.log1p(y))\n",
    "        lr_sigmas = np.log(1 / np.abs(lr.coef_ / np.log1p(y).std()))\n",
    "        \n",
    "        # 2. Find the median distance between points in each dimension\n",
    "        distances = [[abs(b - b_)\n",
    "                      for b, b_ in itertools.combinations(X[:,ax], 2)]\n",
    "                     for ax in range(X.shape[1])]\n",
    "        d_median = np.array([np.median(ld) for ld in distances])\n",
    "        ld_median = np.log(d_median, out=d_median)\n",
    "        \n",
    "        # Find the mean and standard deviation of the above two. This is our prior.\n",
    "        dist_mean = (lr_sigmas + ld_median) / 2\n",
    "        dist_std = np.abs(lr_sigmas - ld_median) / 2\n",
    "        \n",
    "        counter = itertools.count()\n",
    "        def objective(x):\n",
    "            print(next(counter), end=' ')\n",
    "            \n",
    "            x = np.array(x)\n",
    "            x = np.square(x, out=x)\n",
    "            pred = RedshiftGPR(functools.partial(gaussian_kernel, x))\n",
    "            try:\n",
    "                pred.fit(X, X_var, y, fit_variance=False)\n",
    "            except np.linalg.LinAlgError:\n",
    "                return dict(status=STATUS_FAIL)\n",
    "            pred_y = pred.predict(valid_X, valid_X_var)\n",
    "            pred_y -= valid_y\n",
    "            pred_errs = np.abs(pred_y, out=pred_y)\n",
    "            pred_errs /= 1 + valid_y\n",
    "            loss = np.percentile(pred_errs, 68.3, overwrite_input=True)\n",
    "            return dict(status=STATUS_OK, loss=loss)\n",
    "        \n",
    "        space = [hp.lognormal(str(ax), dist_mean[ax], dist_std[ax]) for ax in range(X.shape[1])]\n",
    "        \n",
    "        best = fmin(objective,\n",
    "                    space=space,\n",
    "                    algo=tpe.suggest,\n",
    "                    max_evals=self.iters)\n",
    "        \n",
    "        self.length_scales = np.array([best[str(ax)] for ax in range(X.shape[1])])\n",
    "        \n",
    "        if refit:\n",
    "            self.gpr = RedshiftGPR(functools.partial(gaussian_kernel, self.length_scales ** 2))\n",
    "            self.gpr.fit(X, X_var, y, fit_variance=fit_variance)\n",
    "        \n",
    "    def predict(self, X, X_var, return_var=False):\n",
    "        return self.gpr.predict(X, X_var, return_var=return_var)\n",
    "    \n",
    "TRAIN_NUM = 2000\n",
    "predictr = RedshiftGPRWithCV()\n",
    "predictr.fit(bands[:TRAIN_NUM], bands_vars[:TRAIN_NUM], zs[:TRAIN_NUM],\n",
    "             bands[TRAIN_NUM:2*TRAIN_NUM], bands_vars[TRAIN_NUM:2*TRAIN_NUM], zs[TRAIN_NUM:2*TRAIN_NUM],\n",
    "             refit=False)\n",
    "\n",
    "REAL_TRAIN_NUM = 5000\n",
    "pred = RedshiftGPR(functools.partial(gaussian_kernel, predictr.length_scales ** 2))\n",
    "pred.fit(bands[:REAL_TRAIN_NUM], bands_vars[:REAL_TRAIN_NUM], zs[:REAL_TRAIN_NUM], fit_variance=False)"
   ]
  },
  {
   "cell_type": "code",
   "execution_count": 13,
   "metadata": {},
   "outputs": [
    {
     "name": "stdout",
     "output_type": "stream",
     "text": [
      "[ 1.88341459  0.77981965  0.60775199  0.51311485  0.31210175  1.51827121\n",
      "  1.1083851 ]\n",
      "0.0422319 0.18081 0.373851 0.0751774\n",
      "all 0.0285475091767\n",
      "blues 0.0320236857757\n",
      "reds 0.0226362895183\n"
     ]
    }
   ],
   "source": [
    "print(predictr.length_scales)\n",
    "\n",
    "TEST_NUM_TOTAL = 40000\n",
    "TEST_NUM_SAMPLE = 1000\n",
    "assert TEST_NUM_TOTAL + pred.train_X.shape[0] <= zs.shape[0]\n",
    "\n",
    "def sample_indices(test_bands, test_zs):\n",
    "    faint_objects = (17.7 <= test_bands[:,0]) & (test_bands[:,0] <= 19.5)\n",
    "    blue = faint_objects & (test_bands[:,4] - 2.8 * test_zs < .5)\n",
    "    red = faint_objects & (test_bands[:,4] - 2.8 * test_zs > .5)\n",
    "    blues = np.arange(test_bands.shape[0])[blue][:int(TEST_NUM_SAMPLE * .6)]\n",
    "    reds = np.arange(test_bands.shape[0])[red][:int(TEST_NUM_SAMPLE * .4)]\n",
    "    \n",
    "    indices = np.append(blues, reds)\n",
    "    return indices, blues, reds\n",
    "\n",
    "test_bands = bands[-TEST_NUM_TOTAL:]\n",
    "test_bands_vars = bands_vars[-TEST_NUM_TOTAL:]\n",
    "test_zs = zs[-TEST_NUM_TOTAL:]\n",
    "all_sample, blues, reds = sample_indices(test_bands, test_zs)\n",
    "\n",
    "preds_blues = pred.predict(test_bands[blues], test_bands_vars[blues])\n",
    "errs_blues = np.abs(preds_blues - test_zs[blues]) / (1 + test_zs[blues])\n",
    "print(preds_blues.min(), preds_blues.mean(), preds_blues.max(), preds_blues.std())\n",
    "\n",
    "preds_reds = pred.predict(test_bands[reds], test_bands_vars[reds])\n",
    "errs_reds = np.abs(preds_reds - test_zs[reds]) / (1 + test_zs[reds])\n",
    "\n",
    "err_blues = np.percentile(errs_blues, 68.3)\n",
    "err_reds = np.percentile(errs_reds, 68.3)\n",
    "err_all_sample = np.percentile(np.append(errs_blues, errs_reds), 68.3)\n",
    "\n",
    "print('all', err_all_sample)\n",
    "print('blues', err_blues)\n",
    "print('reds', err_reds)"
   ]
  },
  {
   "cell_type": "markdown",
   "metadata": {},
   "source": [
    "# Write to file for Chris"
   ]
  },
  {
   "cell_type": "code",
   "execution_count": 14,
   "metadata": {
    "collapsed": true
   },
   "outputs": [],
   "source": [
    "z_pred_col = astropy.table.Column(data=pred.predict(bands_unshuffled, bands_vars_unshuffled), name='z_pred')"
   ]
  },
  {
   "cell_type": "code",
   "execution_count": 19,
   "metadata": {
    "collapsed": true
   },
   "outputs": [],
   "source": [
    "in_train_arr = np.zeros((zs_unshuffled.shape[0],))\n",
    "in_train_arr[all_indices[:max(REAL_TRAIN_NUM, 2 * TRAIN_NUM)]] = 1\n",
    "in_train_col = astropy.table.Column(data=in_train_arr, name='in_train')"
   ]
  },
  {
   "cell_type": "code",
   "execution_count": 21,
   "metadata": {
    "collapsed": true
   },
   "outputs": [],
   "source": [
    "all_data = astropy.table.Table.read(DFLENS_PATH)\n",
    "all_data.add_column(z_pred_col)\n",
    "all_data.add_column(in_train_col)\n",
    "all_data.write('/Users/jakubnabaglo/Desktop/chris_predictions.fits')"
   ]
  },
  {
   "cell_type": "code",
   "execution_count": null,
   "metadata": {
    "collapsed": true
   },
   "outputs": [],
   "source": [
    "plt.hist([abs(b - b_) for b, b_ in itertools.combinations(bands[:1000,6], 2)], bins=100)"
   ]
  },
  {
   "cell_type": "markdown",
   "metadata": {},
   "source": [
    "# Random experiments"
   ]
  },
  {
   "cell_type": "code",
   "execution_count": null,
   "metadata": {
    "collapsed": true
   },
   "outputs": [],
   "source": [
    "AX = 4\n",
    "OPTS = [1.22469276, 1.22474092, 0.80236046, 0.86353912, 0.46588492, 1.01890828, 1.164143]\n",
    "OPTS_L = 1 / abs(np.array([0.34157744, 0.10560939, 1.29769242, -0.53296155, 2.38614941, 0.15689398, -0.48851654]))\n",
    "all_ = [abs(b - b_) for b, b_ in itertools.combinations(bands[:1000,AX], 2)]\n",
    "\n",
    "all_median = np.log(np.median(all_))\n",
    "nonzero_median = np.log(np.median([a for a in all_ if a > 0]))\n",
    "\n",
    "plt.hist(np.log([a for a in all_ if a > 0]), bins=100)\n",
    "plt.axvline(np.log(OPTS[AX]), c='k')\n",
    "plt.axvline(all_median, c='g');\n",
    "plt.axvline(np.log(OPTS_L[AX]), c='orange');\n",
    "plt.axvline(nonzero_median, c='purple');"
   ]
  },
  {
   "cell_type": "code",
   "execution_count": null,
   "metadata": {
    "collapsed": true
   },
   "outputs": [],
   "source": [
    "TEST_NUM_TOTAL = 40000\n",
    "TEST_NUM_SAMPLE = 10000\n",
    "assert TEST_NUM_TOTAL + pred.train_X.shape[0] <= zs.shape[0]\n",
    "\n",
    "def sample_indices(test_bands, test_zs):\n",
    "    bright_objects = test_bands[:,0] < 17.7\n",
    "    blue = bright_objects & (test_bands[:,4] - 2.8 * test_zs < .5)\n",
    "    red = bright_objects & (test_bands[:,4] - 2.8 * test_zs > .5)\n",
    "    blues = np.arange(test_bands.shape[0])[blue][:int(TEST_NUM_SAMPLE * .4)]\n",
    "    reds = np.arange(test_bands.shape[0])[red][:int(TEST_NUM_SAMPLE * .6)]\n",
    "    \n",
    "    indices = np.append(blues, reds)\n",
    "    return indices, blues, reds\n",
    "\n",
    "test_bands = bands[-TEST_NUM_TOTAL:]\n",
    "test_bands_vars = bands_vars[-TEST_NUM_TOTAL:]\n",
    "test_zs = zs[-TEST_NUM_TOTAL:]\n",
    "all_sample, blues, reds = sample_indices(test_bands, test_zs)\n",
    "\n",
    "preds_blues = pred.predict(test_bands[blues], test_bands_vars[blues])\n",
    "errs_blues = np.abs(preds_blues - test_zs[blues]) / (1 + test_zs[blues])\n",
    "\n",
    "preds_reds = pred.predict(test_bands[reds], test_bands_vars[reds])\n",
    "errs_reds = np.abs(preds_reds - test_zs[reds]) / (1 + test_zs[reds])\n",
    "\n",
    "err_blues = np.percentile(errs_blues, 68.3)\n",
    "err_reds = np.percentile(errs_reds, 68.3)\n",
    "err_all_sample = np.percentile(np.append(errs_blues, errs_reds), 68.3)\n",
    "\n",
    "print('all', err_all_sample)\n",
    "print('blues', err_blues)\n",
    "print('reds', err_reds)"
   ]
  },
  {
   "cell_type": "code",
   "execution_count": null,
   "metadata": {
    "collapsed": true
   },
   "outputs": [],
   "source": [
    "xs = data['rmag'] - data['imag']\n",
    "ys = data['rmag'] - data['w1mag']\n",
    "far = data['z'] > 0\n",
    "valid = data['w1mag'] < 98\n",
    "plt.scatter(xs[~far], ys[~far])"
   ]
  },
  {
   "cell_type": "code",
   "execution_count": null,
   "metadata": {
    "collapsed": true
   },
   "outputs": [],
   "source": [
    "lr = sklearn.linear_model.LinearRegression()\n",
    "lr.fit(bands, np.log1p(zs))"
   ]
  },
  {
   "cell_type": "code",
   "execution_count": null,
   "metadata": {
    "collapsed": true
   },
   "outputs": [],
   "source": [
    "lr.coef_ / np.log1p(zs).std(), lr.intercept_ / np.log1p(zs).std()"
   ]
  },
  {
   "cell_type": "code",
   "execution_count": null,
   "metadata": {
    "collapsed": true
   },
   "outputs": [],
   "source": [
    "(np.array([1.22469276, 1.22474092, 0.80236046, 0.86353912, 0.46588492, 1.01890828, 1.164143]) / (1 / np.abs(lr.coef_ / np.log1p(zs).std()))).mean()"
   ]
  },
  {
   "cell_type": "code",
   "execution_count": null,
   "metadata": {
    "collapsed": true
   },
   "outputs": [],
   "source": [
    "lr.coef_ / np.log1p(zs).std()"
   ]
  },
  {
   "cell_type": "code",
   "execution_count": null,
   "metadata": {
    "collapsed": true
   },
   "outputs": [],
   "source": []
  }
 ],
 "metadata": {
  "kernelspec": {
   "display_name": "Python 3",
   "language": "python",
   "name": "python3"
  },
  "language_info": {
   "codemirror_mode": {
    "name": "ipython",
    "version": 3
   },
   "file_extension": ".py",
   "mimetype": "text/x-python",
   "name": "python",
   "nbconvert_exporter": "python",
   "pygments_lexer": "ipython3",
   "version": "3.6.0"
  }
 },
 "nbformat": 4,
 "nbformat_minor": 2
}
